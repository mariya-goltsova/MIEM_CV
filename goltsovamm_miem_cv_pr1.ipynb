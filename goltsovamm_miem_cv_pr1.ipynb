{
  "nbformat": 4,
  "nbformat_minor": 0,
  "metadata": {
    "colab": {
      "provenance": []
    },
    "kernelspec": {
      "name": "python3",
      "display_name": "Python 3"
    },
    "language_info": {
      "name": "python"
    }
  },
  "cells": [
    {
      "cell_type": "code",
      "source": [
        "import cv2 # Импортируем OpenCV\n",
        "import numpy as np # Импортируем numpy -- библиотеку для эффективной работы с массивами и матрицами\n",
        "\n",
        "# Строки ниже позволяют нам использовать matplotlib в колабе\n",
        "%matplotlib inline\n",
        "from matplotlib import pyplot as plt\n",
        "import pylab\n",
        "pylab.rcParams['figure.figsize'] = (16.0, 8.0) # Размер выводимых изображений"
      ],
      "metadata": {
        "id": "QZz55MYpjE7s"
      },
      "execution_count": 2,
      "outputs": []
    },
    {
      "cell_type": "code",
      "execution_count": 1,
      "metadata": {
        "id": "uLfRHvMyiw99"
      },
      "outputs": [],
      "source": [
        "# используем ф-ю для поиска центроида из практической работы\n",
        "def find_centroid1(img):\n",
        "  contours, _ = cv2.findContours(img, cv2.RETR_EXTERNAL, cv2.CHAIN_APPROX_SIMPLE)\n",
        "  if len(contours) > 0:\n",
        "    largest_contour = max(contours, key=cv2.contourArea)\n",
        "    moments = cv2.moments(largest_contour)\n",
        "\n",
        "    if moments[\"m00\"] != 0:\n",
        "        cx = int(moments[\"m10\"] / moments[\"m00\"])\n",
        "        cy = int(moments[\"m01\"] / moments[\"m00\"])\n",
        "    else:\n",
        "        cx, cy = 0, 0\n",
        "    return (cx, cy)\n",
        "  return None"
      ]
    },
    {
      "cell_type": "code",
      "source": [
        "name = 'fish'\n",
        "file_count = 0\n",
        "file1 = f'{name}.mp4'\n",
        "\n",
        "vid_capture = cv2.VideoCapture(file1)\n",
        "\n",
        "all_coords = []\n",
        "\n",
        "writer = cv2.VideoWriter(f'result_{name}.mp4', # путь к файлу\n",
        "                         cv2.VideoWriter_fourcc(*'MP4V'), # кодек\n",
        "                         25, # FPS\n",
        "                         (int(vid_capture.get(3)),int(vid_capture.get(4))) # разрешение\n",
        "                        )\n",
        "\n",
        "while((vid_capture.isOpened())):\n",
        "  ret, frame = vid_capture.read()\n",
        "  if ret:\n",
        "    file_count += 1\n",
        "    # print('Кадр {0:04d}'.format(file_count))\n",
        "\n",
        "    image_HSV = cv2.cvtColor(frame, cv2.COLOR_BGR2RGB)\n",
        "    image_HSV = cv2.cvtColor(image_HSV, cv2.COLOR_RGB2HSV)\n",
        "\n",
        "    lower_bound = (36, 50, 70)  # Нижняя граница HSV\n",
        "    upper_bound = (128, 255, 255)  # Верхняя граница HSV\n",
        "    image_threshold = cv2.inRange(image_HSV, lower_bound, upper_bound)\n",
        "    image_threshold = cv2.bitwise_not(image_threshold)\n",
        "    # plt.imshow(image_HSV, cmap='gray')\n",
        "\n",
        "    coordinates = find_centroid1(image_threshold)\n",
        "    color = (255,0,0)\n",
        "    thickness = 3\n",
        "    marker_size = 10\n",
        "    image_thresholded_rgb = cv2.cvtColor(image_threshold, cv2.COLOR_GRAY2RGB) # конвертируем ЧБ-изображение обратно в RGB, чтобы поставить красивую цветную метку\n",
        "\n",
        "    all_coords.append(coordinates)\n",
        "\n",
        "    for xy in all_coords:\n",
        "      cv2.drawMarker(frame, xy, color=color, thickness=thickness,\n",
        "        markerType= cv2.MARKER_TILTED_CROSS, line_type=cv2.LINE_AA,\n",
        "        markerSize=marker_size)\n",
        "\n",
        "    # plt.imshow(frame)\n",
        "    writer.write(frame)\n",
        "  else:\n",
        "    break\n",
        "\n",
        "writer.release()"
      ],
      "metadata": {
        "id": "tIKegtuujGUR"
      },
      "execution_count": 9,
      "outputs": []
    },
    {
      "cell_type": "markdown",
      "source": [
        "## Results are here:\n",
        "- https://drive.google.com/file/d/1TsgrHi2b6esLppP-ByO_-Pc3VNS0JBL5/view?usp=drive_link - for butterfly\n",
        "\n",
        "- https://drive.google.com/file/d/1dzrV0AyMliwAfJw7CpBuZb9qFjZbDyAu/view?usp=drive_link - for fish\n",
        "\n",
        "\n",
        "## Originals are:\n",
        "- https://drive.google.com/file/d/1XBrJQxxH_p_11DzWUtLhUbo-Qknb_PE6/view?usp=drive_link - for butterfly\n",
        "\n",
        "- https://drive.google.com/file/d/1EraQPZdbfkz3uu0UfsrZoW-xV0cQMFyT/view?usp=drive_link - for fish\n",
        "\n",
        "\n"
      ],
      "metadata": {
        "id": "5E5RBZHVmGhU"
      }
    }
  ]
}