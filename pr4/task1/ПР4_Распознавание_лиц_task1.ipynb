{
  "cells": [
    {
      "cell_type": "markdown",
      "metadata": {
        "id": "V1EHcMnf0YCM"
      },
      "source": [
        "# 1 Детекция + верификация (3 балла)"
      ]
    },
    {
      "cell_type": "markdown",
      "metadata": {
        "id": "86yB1xI5-8ng"
      },
      "source": [
        "Часть 1: Обнаружение лиц в реальном времени или на видео (3 балла)\n",
        "Задача:\n",
        "\n",
        "Используя библиотеку OpenCV и метод [YuNET](https://docs.opencv.org/4.x/d0/dd4/tutorial_dnn_face.html) (или другой нейросетевой метод обнаружения лиц на ваше усмотрение), реализуйте обнаружение лиц на видео (или веб-камере).\n",
        "Программа должна обрабатывать кадры с вебкамеры и корректно распознавать ваше лицо. Ваше лицо должно быть выделено зелёным прямоугольником, а чужие - красными."
      ]
    },
    {
      "cell_type": "code",
      "execution_count": 26,
      "metadata": {},
      "outputs": [
        {
          "name": "stdout",
          "output_type": "stream",
          "text": [
            "^C\n"
          ]
        },
        {
          "name": "stdout",
          "output_type": "stream",
          "text": [
            "Requirement already satisfied: opencv-contrib-python in d:\\programs\\anaconda3\\conda\\lib\\site-packages (4.11.0.86)\n",
            "Requirement already satisfied: numpy>=1.17.0 in d:\\programs\\anaconda3\\conda\\lib\\site-packages (from opencv-contrib-python) (1.26.3)\n"
          ]
        }
      ],
      "source": [
        "! pip install opencv-contrib-python"
      ]
    },
    {
      "cell_type": "code",
      "execution_count": 43,
      "metadata": {},
      "outputs": [],
      "source": [
        "import cv2\n",
        "import numpy as np"
      ]
    },
    {
      "cell_type": "code",
      "execution_count": 44,
      "metadata": {},
      "outputs": [],
      "source": [
        "def get_reference_face(detector, frame):\n",
        "    gray = cv2.cvtColor(frame, cv2.COLOR_BGR2GRAY)\n",
        "    faces = detector.detect(frame)\n",
        "\n",
        "    if faces[1] is not None:\n",
        "        return faces[1][0][:4] \n",
        "    \n",
        "    return None\n",
        "\n",
        "def color_frame(frame, faces, reference_face):\n",
        "    if faces is not None:\n",
        "        for face in faces:\n",
        "            x, y, dx, dy = map(int, face[:4])\n",
        "\n",
        "            diff = 50\n",
        "            if reference_face is not None and np.linalg.norm(np.array(reference_face) - np.array([x, y, dx, dy])) < diff:\n",
        "                color = (0, 255, 0) \n",
        "\n",
        "            else:\n",
        "                color = (0, 0, 255)\n",
        "\n",
        "            cv2.rectangle(frame, (x, y), (x + dx, y + dy), color, 2)\n"
      ]
    },
    {
      "cell_type": "code",
      "execution_count": 45,
      "metadata": {},
      "outputs": [],
      "source": [
        "model_name = \"face_detection_yunet_2023mar.onnx\"\n",
        "camera_shape = (640, 480)\n",
        "thr = .9\n",
        "\n",
        "det_model = cv2.FaceDetectorYN_create(model_name, \"\", camera_shape)\n",
        "det_model.setScoreThreshold(thr)"
      ]
    },
    {
      "cell_type": "code",
      "execution_count": 50,
      "metadata": {},
      "outputs": [],
      "source": [
        "cap = cv2.VideoCapture(0)\n",
        "reference_face = None\n",
        "\n",
        "while True:\n",
        "    ret, frame = cap.read()\n",
        "    if not ret:\n",
        "        break\n",
        "    \n",
        "    faces = det_model.detect(frame)\n",
        "    \n",
        "    if reference_face is None:\n",
        "        reference_face = get_reference_face(det_model, frame)\n",
        "    \n",
        "    color_frame(frame, faces[1], reference_face)\n",
        "    cv2.imshow('Face Verification', frame)\n",
        "    \n",
        "    if cv2.waitKey(1) & 0xFF == ord('q'):\n",
        "        break\n",
        "\n",
        "cap.release()\n",
        "cv2.destroyAllWindows()"
      ]
    },
    {
      "cell_type": "code",
      "execution_count": 31,
      "metadata": {
        "id": "76KEbU9KMSQr"
      },
      "outputs": [],
      "source": [
        "# https://colab.research.google.com/github/spmallick/learnopencv/blob/master/Face-Detection-Ultimate-Guide/face_detection_inference_combined.ipynb#scrollTo=EOVSxbI2wSVG - source"
      ]
    },
    {
      "cell_type": "code",
      "execution_count": null,
      "metadata": {
        "id": "yLJv3T7JMST2"
      },
      "outputs": [],
      "source": []
    }
  ],
  "metadata": {
    "colab": {
      "provenance": []
    },
    "kernelspec": {
      "display_name": "base",
      "language": "python",
      "name": "python3"
    },
    "language_info": {
      "codemirror_mode": {
        "name": "ipython",
        "version": 3
      },
      "file_extension": ".py",
      "mimetype": "text/x-python",
      "name": "python",
      "nbconvert_exporter": "python",
      "pygments_lexer": "ipython3",
      "version": "3.9.18"
    }
  },
  "nbformat": 4,
  "nbformat_minor": 0
}
