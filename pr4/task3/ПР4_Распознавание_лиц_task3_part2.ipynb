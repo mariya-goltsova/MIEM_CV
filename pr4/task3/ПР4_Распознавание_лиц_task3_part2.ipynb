{
  "cells": [
    {
      "cell_type": "markdown",
      "metadata": {
        "id": "0wRYyp1mM2NV"
      },
      "source": [
        "# Суть задания\n",
        "\n",
        "\n",
        "1.   Реализовать решение задачи верификации лица (сравнение 1 к 1)\n",
        "2.   2 на кого из МИЭМ вы похожи + 2 GUI\n",
        "2.   Протестировать работу различных методов трекинга объектов в различных задачах.\n",
        "\n",
        "Примерное время выполнения - 8-10 часов.\n",
        "\n",
        "Дедлайн: 1 февраля в 23:59\n",
        "\n",
        "Штрафные коэффициенты оценивания при просрочке:\n",
        "\n",
        "-|-\n",
        "----|---\n",
        "Просрочка меньше 12 часов | без штрафа\n",
        "От 12 часов до 7 дней после дедлайна | 0.8\n",
        "От 7 до 14 дней | 0.6\n",
        "Более 14 дней и до начала сессии | 0.4\n",
        "\n",
        "## Оценивание\n",
        "\n",
        "Задание:\n",
        "\n",
        "Часть работы | Стоимость в баллах\n",
        "-------------|--------------------\n",
        "Детекция + Верификация **Можно сдать без защиты**.| 3\n",
        "Поисковик \"MIEM Lookalikes\" **Можно сдать без защиты**.| 2\n",
        "MIEM Lookalike Web-GUI **Можно сдать без защиты**.| 1\n",
        "Исследование устойчивости методов распознавания | 4\n",
        "Итого | 10 баллов\n",
        "\n",
        "Формула оценивания всей работы:\n",
        "\n",
        "О = Задание * 0.9 + Тест на лекции * 0.1\n",
        "\n"
      ]
    },
    {
      "cell_type": "markdown",
      "metadata": {
        "id": "2iRrc6SRg4-d"
      },
      "source": [
        "## Часть 2. Оценить точность работы методов из DeepFace на аугментированных данных (2 балла)."
      ]
    },
    {
      "cell_type": "markdown",
      "metadata": {
        "id": "aFA9PwlwjeDV"
      },
      "source": [
        "Необходимо собрать собственный набор данных из **различных** изображений Вашего лица с разных ракурсов, желательно настоящие фотографии из личного архива (20 штук)\\\n",
        "Возьмите эталонное изображение (как в паспорте) и при помощи библиотеки [DeepFace](https://github.com/serengil/deepface) проверьте его на соответствие всему датасету. Посчитайте метрику Precision. \\\n",
        "\\\n",
        "Примените каждую из перечисленных ниже аугментаций (**по-отдельности**) ко всему датасету и измерьте метрику Precision для измененнного датасета:\n",
        "*   Поворот изображения на 45° и 90°.\n",
        "*   Добавление шума (Gaussian Noise).\n",
        "*   Изменение яркости (увеличение и уменьшение на 50%).\n",
        "*   Размытие с различными параметрами.\n",
        "\\\n",
        "Реузультаты соберите в таблицу вида:\n",
        "\n",
        "Метод | Исходный датасет | Поворот на 45° | Поворот на 90° | Изображение с шумом |\n",
        "--- | ----|--- | --- | --- |\n",
        "VGG-Face | 0 | 0 | 0 | 0 |\n",
        "Facenet | 0 | 0 | 0 | 0 |\n",
        "Facenet512 | 0 | 0 | 0 | 0 |\n",
        "OpenFace | 0 | 0 | 0 | 0 |\n",
        "DeepFace | 0 | 0 | 0 | 0 |\n",
        "DeepID | 0 | 0 | 0 | 0 |\n",
        "ArcFace | 0 | 0 | 0 | 0 |\n",
        "Dlib | 0 | 0 | 0 | 0 |\n",
        "SFace | 0 | 0 | 0 | 0 |\n",
        "GhostFaceNet | 0 | 0 | 0 | 0 |"
      ]
    },
    {
      "cell_type": "code",
      "execution_count": 102,
      "metadata": {
        "id": "KyOhAPI7Mb_o"
      },
      "outputs": [],
      "source": [
        "import cv2\n",
        "import numpy as np\n",
        "import pandas as pd\n",
        "import os\n",
        "from deepface import DeepFace\n",
        "from sklearn.metrics import precision_score\n",
        "from glob import glob"
      ]
    },
    {
      "cell_type": "code",
      "execution_count": 103,
      "metadata": {
        "id": "0Ovh9xiLMdHH"
      },
      "outputs": [],
      "source": [
        "def augmentations(image, aug):\n",
        "\n",
        "    if aug == \"rotate_45\":\n",
        "        (h, w) = image.shape[:2]\n",
        "        center = (w // 2, h // 2)\n",
        "        matrix = cv2.getRotationMatrix2D(center, 45, 1.0)\n",
        "        return cv2.warpAffine(image, matrix, (w, h))\n",
        "    \n",
        "    elif aug == \"rotate_90\":\n",
        "        return cv2.rotate(image, cv2.ROTATE_90_CLOCKWISE)\n",
        "    \n",
        "    elif aug == \"gaussian_noise\":\n",
        "        noise = np.random.normal(0, 25, image.shape).astype(np.uint8)\n",
        "        return cv2.add(image, noise)\n",
        "    \n",
        "    elif aug == \"brightness_up\":\n",
        "        return cv2.convertScaleAbs(image, alpha=1.5, beta=0)\n",
        "    \n",
        "    elif aug == \"brightness_down\":\n",
        "        return cv2.convertScaleAbs(image, alpha=0.5, beta=0)\n",
        "    \n",
        "    elif aug == \"blur\":\n",
        "        return cv2.GaussianBlur(image, (5, 5), 0)\n",
        "    \n",
        "    else:\n",
        "        return image"
      ]
    },
    {
      "cell_type": "code",
      "execution_count": 114,
      "metadata": {
        "id": "rKinubhVHgbe"
      },
      "outputs": [],
      "source": [
        "def print_metric(model_name, reference_img, dataset):\n",
        "    y_true, y_pred = [], []\n",
        "    corr = 0\n",
        "\n",
        "    for img in dataset:\n",
        "        \n",
        "        try:\n",
        "            result = DeepFace.verify(reference_img, img, model_name=model_name, enforce_detection=False)\n",
        "            if result['verified']:\n",
        "              corr += 1\n",
        "              \n",
        "        except:\n",
        "            pass\n",
        "\n",
        "    return corr / len(dataset) if len(dataset) != 0 else 0"
      ]
    },
    {
      "cell_type": "code",
      "execution_count": 115,
      "metadata": {
        "id": "VaFIGet0NWRl"
      },
      "outputs": [],
      "source": [
        "def process_dataset(reference_img, dataset_path):\n",
        "    augs = [\"original\", \"rotate_45\", \"rotate_90\", \"gaussian_noise\", \"brightness_up\", \"brightness_down\", \"blur\"]\n",
        "    models = [\"VGG-Face\", \"Facenet\", \"Facenet512\", \"OpenFace\", \"DeepFace\", \"DeepID\", \"ArcFace\", \"Dlib\", \"SFace\", \"GhostFaceNet\"]\n",
        "    res = {aug: [] for aug in augs}\n",
        "\n",
        "    images = glob(os.path.join(dataset_path, \"*\"))\n",
        "\n",
        "    original_images = [cv2.imread(img) for img in images]\n",
        "\n",
        "    augmented_datasets = {aug: [augmentations(img, aug) for img in original_images] for aug in augs}\n",
        "\n",
        "    for model in tqdm(models, total = len(models)):\n",
        "\n",
        "        for aug in tqdm(augs, total = len(augs)):\n",
        "\n",
        "            augmented_images_paths = []\n",
        "            for i, img in enumerate(augmented_datasets[aug]):\n",
        "                \n",
        "                aug_path = f\"temp_{aug}_{i}.jpg\"\n",
        "                cv2.imwrite(aug_path, img)\n",
        "                augmented_images_paths.append(aug_path)\n",
        "\n",
        "            precision = print_metric(model, reference_img, augmented_images_paths)\n",
        "            res[aug].append(precision)\n",
        "\n",
        "            for path in augmented_images_paths:\n",
        "                os.remove(path)\n",
        "\n",
        "    df = pd.DataFrame(res, index=models)\n",
        "    print(df)\n",
        "    df.to_csv(\"results.csv\")"
      ]
    },
    {
      "cell_type": "code",
      "execution_count": 116,
      "metadata": {
        "colab": {
          "base_uri": "https://localhost:8080/"
        },
        "id": "gbgRJz8GMZ7J",
        "outputId": "a4d48161-bf1a-4fab-8020-64d2052a4dd3"
      },
      "outputs": [
        {
          "name": "stderr",
          "output_type": "stream",
          "text": [
            "  0%|          | 0/10 [00:00<?, ?it/s]\n",
            "  0%|          | 0/7 [00:00<?, ?it/s]\u001b[A\n",
            " 14%|█▍        | 1/7 [01:33<09:23, 93.99s/it]\u001b[A\n",
            " 29%|██▊       | 2/7 [02:55<07:13, 86.61s/it]\u001b[A\n",
            " 43%|████▎     | 3/7 [04:14<05:32, 83.08s/it]\u001b[A\n",
            " 57%|█████▋    | 4/7 [06:05<04:42, 94.20s/it]\u001b[A\n",
            " 71%|███████▏  | 5/7 [07:51<03:16, 98.49s/it]\u001b[A\n",
            " 86%|████████▌ | 6/7 [09:18<01:34, 94.55s/it]\u001b[A\n",
            "100%|██████████| 7/7 [10:53<00:00, 93.33s/it]\n",
            " 10%|█         | 1/10 [10:53<1:37:59, 653.32s/it]\n",
            "  0%|          | 0/7 [00:00<?, ?it/s]\u001b[A\n",
            " 14%|█▍        | 1/7 [01:23<08:23, 83.83s/it]\u001b[A\n",
            " 29%|██▊       | 2/7 [02:29<06:04, 72.97s/it]\u001b[A\n",
            " 43%|████▎     | 3/7 [03:35<04:40, 70.05s/it]\u001b[A\n",
            " 57%|█████▋    | 4/7 [05:14<04:04, 81.36s/it]\u001b[A\n",
            " 71%|███████▏  | 5/7 [06:37<02:44, 82.11s/it]\u001b[A\n",
            " 86%|████████▌ | 6/7 [07:51<01:19, 79.15s/it]\u001b[A\n",
            "100%|██████████| 7/7 [09:11<00:00, 78.85s/it]\n",
            " 20%|██        | 2/10 [20:05<1:19:09, 593.71s/it]\n",
            "  0%|          | 0/7 [00:00<?, ?it/s]\u001b[A\n",
            " 14%|█▍        | 1/7 [01:25<08:33, 85.54s/it]\u001b[A\n",
            " 29%|██▊       | 2/7 [02:31<06:11, 74.21s/it]\u001b[A\n",
            " 43%|████▎     | 3/7 [03:37<04:41, 70.39s/it]\u001b[A\n",
            " 57%|█████▋    | 4/7 [05:18<04:07, 82.53s/it]\u001b[A\n",
            " 71%|███████▏  | 5/7 [06:43<02:46, 83.21s/it]\u001b[A\n",
            " 86%|████████▌ | 6/7 [07:56<01:19, 79.92s/it]\u001b[A\n",
            "100%|██████████| 7/7 [09:17<00:00, 79.62s/it]\n",
            " 30%|███       | 3/10 [29:22<1:07:19, 577.10s/it]\n",
            "  0%|          | 0/7 [00:00<?, ?it/s]\u001b[A\n",
            " 14%|█▍        | 1/7 [01:12<07:17, 72.91s/it]\u001b[A\n",
            " 29%|██▊       | 2/7 [02:09<05:16, 63.23s/it]\u001b[A\n",
            " 43%|████▎     | 3/7 [03:03<03:56, 59.23s/it]\u001b[A\n",
            " 57%|█████▋    | 4/7 [04:32<03:32, 70.89s/it]\u001b[A\n",
            " 71%|███████▏  | 5/7 [05:46<02:23, 71.96s/it]\u001b[A\n",
            " 86%|████████▌ | 6/7 [06:48<01:08, 68.45s/it]\u001b[A\n",
            "100%|██████████| 7/7 [07:56<00:00, 68.14s/it]\n",
            " 40%|████      | 4/10 [37:19<53:45, 537.59s/it]  \n",
            "  0%|          | 0/7 [00:00<?, ?it/s]\u001b[A\n",
            " 14%|█▍        | 1/7 [00:00<00:01,  4.61it/s]\u001b[A\n",
            " 29%|██▊       | 2/7 [00:00<00:01,  4.61it/s]\u001b[A\n",
            " 43%|████▎     | 3/7 [00:00<00:00,  4.52it/s]\u001b[A\n",
            " 57%|█████▋    | 4/7 [00:01<00:00,  3.14it/s]\u001b[A\n",
            " 71%|███████▏  | 5/7 [00:01<00:00,  3.51it/s]\u001b[A\n",
            " 86%|████████▌ | 6/7 [00:01<00:00,  3.86it/s]\u001b[A\n",
            "100%|██████████| 7/7 [00:01<00:00,  3.95it/s]\n",
            " 50%|█████     | 5/10 [37:21<28:41, 344.37s/it]\n",
            "  0%|          | 0/7 [00:00<?, ?it/s]\u001b[A\n",
            " 14%|█▍        | 1/7 [01:08<06:49, 68.22s/it]\u001b[A\n",
            " 29%|██▊       | 2/7 [01:58<04:48, 57.76s/it]\u001b[A\n",
            " 43%|████▎     | 3/7 [02:48<03:37, 54.30s/it]\u001b[A\n",
            " 57%|█████▋    | 4/7 [04:11<03:16, 65.52s/it]\u001b[A\n",
            " 71%|███████▏  | 5/7 [05:21<02:14, 67.26s/it]\u001b[A\n",
            " 86%|████████▌ | 6/7 [06:17<01:03, 63.13s/it]\u001b[A\n",
            "100%|██████████| 7/7 [07:23<00:00, 63.29s/it]\n",
            " 60%|██████    | 6/10 [44:44<25:11, 377.92s/it]\n",
            "  0%|          | 0/7 [00:00<?, ?it/s]\u001b[A\n",
            " 14%|█▍        | 1/7 [01:23<08:19, 83.21s/it]\u001b[A\n",
            " 29%|██▊       | 2/7 [02:28<06:03, 72.72s/it]\u001b[A\n",
            " 43%|████▎     | 3/7 [03:35<04:39, 69.99s/it]\u001b[A\n",
            " 57%|█████▋    | 4/7 [05:14<04:04, 81.59s/it]\u001b[A\n",
            " 71%|███████▏  | 5/7 [06:37<02:44, 82.07s/it]\u001b[A\n",
            " 86%|████████▌ | 6/7 [07:50<01:19, 79.05s/it]\u001b[A\n",
            "100%|██████████| 7/7 [09:10<00:00, 78.67s/it]\n",
            " 70%|███████   | 7/10 [53:55<21:43, 434.41s/it]\n",
            "  0%|          | 0/7 [00:00<?, ?it/s]\u001b[A\n",
            " 14%|█▍        | 1/7 [00:00<00:01,  4.57it/s]\u001b[A\n",
            " 29%|██▊       | 2/7 [00:00<00:01,  4.55it/s]\u001b[A\n",
            " 43%|████▎     | 3/7 [00:00<00:00,  4.38it/s]\u001b[A\n",
            " 57%|█████▋    | 4/7 [00:01<00:00,  3.08it/s]\u001b[A\n",
            " 71%|███████▏  | 5/7 [00:01<00:00,  3.49it/s]\u001b[A\n",
            " 86%|████████▌ | 6/7 [00:01<00:00,  3.79it/s]\u001b[A\n",
            "100%|██████████| 7/7 [00:01<00:00,  3.82it/s]\n",
            " 80%|████████  | 8/10 [53:57<09:53, 296.71s/it]\n",
            "  0%|          | 0/7 [00:00<?, ?it/s]\u001b[A\n",
            " 14%|█▍        | 1/7 [01:09<06:56, 69.40s/it]\u001b[A\n",
            " 29%|██▊       | 2/7 [02:00<04:53, 58.74s/it]\u001b[A\n",
            " 43%|████▎     | 3/7 [02:52<03:41, 55.36s/it]\u001b[A\n",
            " 57%|█████▋    | 4/7 [04:17<03:22, 67.38s/it]\u001b[A\n",
            " 71%|███████▏  | 5/7 [05:26<02:15, 67.86s/it]\u001b[A\n",
            " 86%|████████▌ | 6/7 [06:25<01:04, 64.67s/it]\u001b[A\n",
            "100%|██████████| 7/7 [07:31<00:00, 64.47s/it]\n",
            " 90%|█████████ | 9/10 [1:01:28<05:45, 345.04s/it]\n",
            "  0%|          | 0/7 [00:00<?, ?it/s]\u001b[A\n",
            " 14%|█▍        | 1/7 [01:20<08:04, 80.81s/it]\u001b[A\n",
            " 29%|██▊       | 2/7 [02:24<05:53, 70.74s/it]\u001b[A\n",
            " 43%|████▎     | 3/7 [03:28<04:30, 67.50s/it]\u001b[A\n",
            " 57%|█████▋    | 4/7 [05:03<03:55, 78.48s/it]\u001b[A\n",
            " 71%|███████▏  | 5/7 [06:24<02:38, 79.28s/it]\u001b[A\n",
            " 86%|████████▌ | 6/7 [07:33<01:15, 75.86s/it]\u001b[A\n",
            "100%|██████████| 7/7 [08:51<00:00, 75.91s/it]\n",
            "100%|██████████| 10/10 [1:10:19<00:00, 421.97s/it]"
          ]
        },
        {
          "name": "stdout",
          "output_type": "stream",
          "text": [
            "              original  rotate_45  rotate_90  gaussian_noise  brightness_up  \\\n",
            "VGG-Face      0.619048   0.238095   0.000000        0.285714       0.666667   \n",
            "Facenet       0.571429   0.142857   0.000000        0.000000       0.666667   \n",
            "Facenet512    0.571429   0.190476   0.000000        0.000000       0.619048   \n",
            "OpenFace      0.047619   0.000000   0.000000        0.000000       0.095238   \n",
            "DeepFace      0.000000   0.000000   0.000000        0.000000       0.000000   \n",
            "DeepID        0.190476   0.095238   0.047619        0.238095       0.333333   \n",
            "ArcFace       0.619048   0.142857   0.000000        0.000000       0.666667   \n",
            "Dlib          0.000000   0.000000   0.000000        0.000000       0.000000   \n",
            "SFace         0.619048   0.047619   0.000000        0.000000       0.571429   \n",
            "GhostFaceNet  0.571429   0.095238   0.000000        0.000000       0.571429   \n",
            "\n",
            "              brightness_down      blur  \n",
            "VGG-Face             0.714286  0.714286  \n",
            "Facenet              0.333333  0.571429  \n",
            "Facenet512           0.476190  0.619048  \n",
            "OpenFace             0.047619  0.142857  \n",
            "DeepFace             0.000000  0.000000  \n",
            "DeepID               0.190476  0.238095  \n",
            "ArcFace              0.666667  0.666667  \n",
            "Dlib                 0.000000  0.000000  \n",
            "SFace                0.666667  0.666667  \n",
            "GhostFaceNet         0.666667  0.619048  \n"
          ]
        },
        {
          "name": "stderr",
          "output_type": "stream",
          "text": [
            "\n"
          ]
        }
      ],
      "source": [
        "reference_image_path = \"me.jpg\"\n",
        "dataset_directory = \"drive/MyDrive/IMMM_25/my_photos/\"\n",
        "process_dataset(reference_image_path, dataset_directory)"
      ]
    },
    {
      "cell_type": "code",
      "execution_count": null,
      "metadata": {
        "id": "_NpEmY1uMaA5"
      },
      "outputs": [],
      "source": []
    },
    {
      "cell_type": "code",
      "execution_count": null,
      "metadata": {
        "id": "oa1dIFhSHgeM"
      },
      "outputs": [],
      "source": []
    },
    {
      "cell_type": "code",
      "execution_count": null,
      "metadata": {
        "id": "WVmAloAmH892"
      },
      "outputs": [],
      "source": []
    },
    {
      "cell_type": "code",
      "execution_count": null,
      "metadata": {
        "id": "k2YLo9RUH9A0"
      },
      "outputs": [],
      "source": []
    },
    {
      "cell_type": "code",
      "execution_count": null,
      "metadata": {
        "id": "gsaEO4_uH9D3"
      },
      "outputs": [],
      "source": []
    },
    {
      "cell_type": "code",
      "execution_count": null,
      "metadata": {
        "id": "cNP6FYDeH9Gw"
      },
      "outputs": [],
      "source": []
    },
    {
      "cell_type": "code",
      "execution_count": null,
      "metadata": {
        "id": "bah-EF6eH9KO"
      },
      "outputs": [],
      "source": []
    },
    {
      "cell_type": "markdown",
      "metadata": {
        "id": "SibiLplgP2bC"
      },
      "source": []
    },
    {
      "cell_type": "markdown",
      "metadata": {
        "id": "bMzGSyoKQUgV"
      },
      "source": [
        "# Итоговая проверка и отчётность\n",
        "\n"
      ]
    },
    {
      "cell_type": "markdown",
      "metadata": {
        "id": "oJY1a_RAjivD"
      },
      "source": [
        "## Задание 1\n",
        "* Ссылка на исходный код приложения в GitHub\n",
        "* Ссылка на видеозапись экрана ПК во время работы приложения\n",
        "\n",
        "## Задание 2\n",
        "* Ссылка на исходный код приложения в GitHub\n",
        "* Ссылка на видеозапись экрана ПК во время работы приложения\n",
        "\n",
        "## Задание 3\n",
        "* Ссылка на Jupyter Notebook с кодом подсчёта метрики по кадрам с видео в GitHub\n",
        "* Ссылка на архив в формате ZIP или 7z с вашими фото\n",
        "* Ссылка на Jupyter Notebook с кодом наложения аугментаций и подсчёта метрики в GitHub"
      ]
    },
    {
      "cell_type": "markdown",
      "metadata": {
        "id": "ny14-XnN8QVM"
      },
      "source": [
        "# Контрольные вопросы\n"
      ]
    }
  ],
  "metadata": {
    "colab": {
      "provenance": []
    },
    "kernelspec": {
      "display_name": "base",
      "language": "python",
      "name": "python3"
    },
    "language_info": {
      "codemirror_mode": {
        "name": "ipython",
        "version": 3
      },
      "file_extension": ".py",
      "mimetype": "text/x-python",
      "name": "python",
      "nbconvert_exporter": "python",
      "pygments_lexer": "ipython3",
      "version": "3.9.18"
    }
  },
  "nbformat": 4,
  "nbformat_minor": 0
}
